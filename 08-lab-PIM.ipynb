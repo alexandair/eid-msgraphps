{
 "cells": [
  {
   "cell_type": "markdown",
   "id": "09030fb8",
   "metadata": {},
   "source": [
    "# Lab: Working with Entra ID Privileged Identity Management (PIM)\n",
    "\n",
    "In this lab, you will learn how to work with Microsoft Entra ID Privileged Identity Management (PIM) using Microsoft Graph PowerShell SDK. PIM is a service that enables you to manage, control, and monitor access to important resources in your organization."
   ]
  },
  {
   "cell_type": "markdown",
   "id": "834cdf6b",
   "metadata": {},
   "source": [
    "## Prerequisites\n",
    "\n",
    "To successfully complete this lab, make sure you have the following:\n",
    "\n",
    "- Microsoft Graph PowerShell SDK installed\n",
    "- Microsoft Entra ID P2 or Enterprise Mobility + Security (EMS) E5 license\n",
    "- Appropriate permissions with the Privileged Role Administrator role\n",
    "- For this lab, the `RoleManagement.ReadWrite.Directory` delegated permission is required"
   ]
  },
  {
   "cell_type": "markdown",
   "id": "438ec15a",
   "metadata": {},
   "source": [
    "## Lab Overview\n",
    "\n",
    "In this lab, you will:\n",
    "\n",
    "1. Connect to Microsoft Graph with appropriate permissions\n",
    "2. Find available directory roles and role templates\n",
    "3. Grant an eligible role assignment to a user\n",
    "4. Extend the duration of an eligible role assignment\n",
    "5. Activate a role assignment\n",
    "6. Deactivate an active role assignment\n",
    "7. Remove an eligible role assignment"
   ]
  },
  {
   "cell_type": "markdown",
   "id": "78086b77",
   "metadata": {},
   "source": [
    "## Task 1: Connect to Microsoft Graph\n",
    "\n",
    "First, we need to connect to Microsoft Graph with the appropriate permissions. For managing PIM, we need the `RoleManagement.ReadWrite.Directory` scope.\n",
    "\n",
    "> **Note**: When prompted to consent, select \"Consent on behalf of your organization\" before accepting in the sign-in dialog box."
   ]
  },
  {
   "cell_type": "code",
   "execution_count": null,
   "id": "862e07df",
   "metadata": {
    "polyglot_notebook": {
     "kernelName": "pwsh"
    }
   },
   "outputs": [],
   "source": [
    "# Connect to Microsoft Graph with required permissions\n",
    "Connect-MgGraph -Scopes 'RoleManagement.ReadWrite.Directory'"
   ]
  },
  {
   "cell_type": "markdown",
   "id": "bcb57be2",
   "metadata": {},
   "source": [
    "## Task 2: Find the User and Available Roles\n",
    "\n",
    "Now we need to identify the user who will receive the role assignment and learn what roles are available in the system."
   ]
  },
  {
   "cell_type": "code",
   "execution_count": null,
   "id": "9127e329",
   "metadata": {
    "polyglot_notebook": {
     "kernelName": "pwsh"
    }
   },
   "outputs": [],
   "source": [
    "# Get the user information - replace Diego with another user in your tenant\n",
    "# When you pick a user, reset his/her password\n",
    "$User = Get-MgUser -UserId 'diegos@M365x33461626.onmicrosoft.com'\n",
    "$principalId = $User.Id\n",
    "\n",
    "# Display the user details to confirm\n",
    "$User | Select-Object DisplayName, UserPrincipalName, Id"
   ]
  },
  {
   "cell_type": "markdown",
   "id": "7871efff",
   "metadata": {},
   "source": [
    "### Finding Available Directory Roles\n",
    "\n",
    "Let's examine what directory roles are currently available in your Entra ID tenant."
   ]
  },
  {
   "cell_type": "code",
   "execution_count": null,
   "id": "b17df7ce",
   "metadata": {
    "polyglot_notebook": {
     "kernelName": "pwsh"
    }
   },
   "outputs": [],
   "source": [
    "# List currently available directory roles\n",
    "Get-MgDirectoryRole | Select-Object DisplayName, Id | Sort-Object DisplayName"
   ]
  },
  {
   "cell_type": "markdown",
   "id": "da92f4bc",
   "metadata": {},
   "source": [
    "### Finding All Potential Directory Role Templates\n",
    "\n",
    "According to the Microsoft Graph API documentation, when assigning a role using the Azure portal, the role activation step is implicitly done on the admin's behalf. To get the full list of roles that are available in Entra ID (including those that haven't been activated yet), use the `Get-MgDirectoryRoleTemplate` cmdlet."
   ]
  },
  {
   "cell_type": "code",
   "execution_count": null,
   "id": "9078532e",
   "metadata": {
    "polyglot_notebook": {
     "kernelName": "pwsh"
    }
   },
   "outputs": [],
   "source": [
    "# List all potential directory role templates\n",
    "Get-MgDirectoryRoleTemplate | Select-Object DisplayName, Id | Sort-Object DisplayName"
   ]
  },
  {
   "cell_type": "markdown",
   "id": "4df5044b",
   "metadata": {},
   "source": [
    "## Task 3: Assign an Eligible Role\n",
    "\n",
    "Now we will assign an eligible `Security Reader` role to our user. This makes the user eligible to activate the role when needed but doesn't grant the permissions right away."
   ]
  },
  {
   "cell_type": "code",
   "execution_count": null,
   "id": "30115aef",
   "metadata": {
    "polyglot_notebook": {
     "kernelName": "pwsh"
    }
   },
   "outputs": [],
   "source": [
    "# Get the Security Reader role definition ID\n",
    "$RoleDefinitionId = (Get-MgDirectoryRoleTemplate | Where-Object DisplayName -Match 'Security Reader').Id\n",
    "\n",
    "# Create parameters for eligible role assignment\n",
    "$params = @{\n",
    "    'PrincipalId'      = $principalId\n",
    "    'RoleDefinitionId' = $RoleDefinitionId\n",
    "    'Justification'    = 'Add eligible assignment'\n",
    "    'DirectoryScopeId' = '/'  # '/' represents the entire directory\n",
    "    'Action'           = 'AdminAssign'\n",
    "    'ScheduleInfo'     = @{\n",
    "        'StartDateTime' = Get-Date\n",
    "        'Expiration'    = @{\n",
    "            'Type'     = 'AfterDuration'\n",
    "            'Duration' = 'PT1H'  # ISO 8601 duration format - 1 hour\n",
    "        }\n",
    "    }\n",
    "}\n",
    "\n",
    "# Create the eligible role assignment\n",
    "New-MgRoleManagementDirectoryRoleEligibilityScheduleRequest -BodyParameter $params | Format-List *"
   ]
  },
  {
   "cell_type": "markdown",
   "id": "caabff4d",
   "metadata": {},
   "source": [
    "## Task 4: Verify the Eligible Assignment\n",
    "\n",
    "Let's verify that our user now has an eligible role assignment."
   ]
  },
  {
   "cell_type": "code",
   "execution_count": null,
   "id": "cc0b6b8c",
   "metadata": {
    "polyglot_notebook": {
     "kernelName": "pwsh"
    }
   },
   "outputs": [],
   "source": [
    "# Get the eligible role assignments for our user\n",
    "Get-MgRoleManagementDirectoryRoleEligibilityScheduleInstance -Filter \"principalId eq '$principalId'\" | Format-List"
   ]
  },
  {
   "cell_type": "markdown",
   "id": "29e2d818",
   "metadata": {},
   "source": [
    "## Task 5: Extend an Eligible Assignment\n",
    "\n",
    "If we need to extend the eligible assignment for a longer period, we can use the `AdminExtend` action."
   ]
  },
  {
   "cell_type": "code",
   "execution_count": null,
   "id": "1d9b3c4d",
   "metadata": {
    "polyglot_notebook": {
     "kernelName": "pwsh"
    }
   },
   "outputs": [],
   "source": [
    "# Create parameters to extend the eligible assignment\n",
    "$params = @{\n",
    "    'PrincipalId'      = $principalId\n",
    "    'RoleDefinitionId' = $RoleDefinitionId\n",
    "    'Justification'    = 'Extend eligible assignment'\n",
    "    'DirectoryScopeId' = '/'\n",
    "    'Action'           = 'AdminExtend'\n",
    "    'ScheduleInfo'     = @{\n",
    "        'StartDateTime' = Get-Date\n",
    "        'Expiration'    = @{\n",
    "            'Type'        = 'AfterDateTime'\n",
    "            'EndDateTime' = (Get-Date).AddDays(1)  # Extend for 1 day\n",
    "        }\n",
    "    }\n",
    "}\n",
    "\n",
    "# Extend the eligible role assignment\n",
    "New-MgRoleManagementDirectoryRoleEligibilityScheduleRequest -BodyParameter $params |\n",
    "    Format-List Id, Status, Action, DirectoryScopeId, RoleDefinitionId, Justification, PrincipalId"
   ]
  },
  {
   "cell_type": "markdown",
   "id": "43f230be",
   "metadata": {},
   "source": [
    "## Task 6: Self-Activate a Role (As the User)\n",
    "\n",
    "First, we need to connect as the user who has the eligible role assignment."
   ]
  },
  {
   "cell_type": "code",
   "execution_count": null,
   "id": "082a7918",
   "metadata": {
    "polyglot_notebook": {
     "kernelName": "pwsh"
    }
   },
   "outputs": [],
   "source": [
    "# Disconnect from the current session\n",
    "Disconnect-MgGraph\n",
    "\n",
    "# Connect to Microsoft Graph as the user (in a real scenario)\n",
    "# Note: You'll need to sign in as the user when prompted\n",
    "Connect-MgGraph -ContextScope Process"
   ]
  },
  {
   "cell_type": "code",
   "execution_count": null,
   "id": "bd23c3e3",
   "metadata": {
    "polyglot_notebook": {
     "kernelName": "pwsh"
    }
   },
   "outputs": [],
   "source": [
    "# Get the user information - replace Diego with another user in your tenant\n",
    "$User = Get-MgUser -UserId 'diegos@M365x33461626.onmicrosoft.com'\n",
    "$principalId = $User.Id\n",
    "$RoleDefinitionId = (Get-MgDirectoryRoleTemplate | Where-Object DisplayName -Match 'Security Reader').Id\n",
    "\n",
    "# Create parameters for role activation\n",
    "$params = @{\n",
    "    'PrincipalId'      = $principalId\n",
    "    'RoleDefinitionId' = $RoleDefinitionId\n",
    "    'Justification'    = 'Activate assignment'\n",
    "    'DirectoryScopeId' = '/'\n",
    "    'Action'           = 'SelfActivate'\n",
    "    'ScheduleInfo'     = @{\n",
    "        'StartDateTime' = Get-Date\n",
    "        'Expiration'    = @{\n",
    "            'Type'     = 'AfterDuration'\n",
    "            'Duration' = 'PT1H'  # Activate for 1 hour\n",
    "        }\n",
    "    }\n",
    "}\n",
    "\n",
    "# Activate the role\n",
    "New-MgRoleManagementDirectoryRoleAssignmentScheduleRequest -BodyParameter $params |\n",
    "    Format-List Id, Status, Action, DirectoryScopeId, RoleDefinitionId, Justification, PrincipalId"
   ]
  },
  {
   "cell_type": "markdown",
   "id": "267bbd4f",
   "metadata": {},
   "source": [
    "## Task 7: Verify Active Role Assignments\n",
    "\n",
    "Let's verify that the role is now active for our user."
   ]
  },
  {
   "cell_type": "code",
   "execution_count": null,
   "id": "a56647ec",
   "metadata": {
    "polyglot_notebook": {
     "kernelName": "pwsh"
    }
   },
   "outputs": [],
   "source": [
    "# Get the active role assignments for our user\n",
    "Get-MgRoleManagementDirectoryRoleAssignmentScheduleInstance -Filter \"principalId eq '$principalId'\" | Format-List"
   ]
  },
  {
   "cell_type": "markdown",
   "id": "3cc992ff",
   "metadata": {},
   "source": [
    "## Task 8: Deactivate a Role\n",
    "\n",
    "When the user is finished with the elevated privileges, they can deactivate the role."
   ]
  },
  {
   "cell_type": "code",
   "execution_count": null,
   "id": "96a26821",
   "metadata": {
    "polyglot_notebook": {
     "kernelName": "pwsh"
    }
   },
   "outputs": [],
   "source": [
    "# Create parameters for role deactivation\n",
    "$params = @{\n",
    "    'PrincipalId'      = $principalId\n",
    "    'RoleDefinitionId' = $RoleDefinitionId\n",
    "    'Justification'    = 'Deactivate assignment'\n",
    "    'DirectoryScopeId' = '/'\n",
    "    'Action'           = 'SelfDeactivate'\n",
    "}\n",
    "\n",
    "# Deactivate the role\n",
    "New-MgRoleManagementDirectoryRoleAssignmentScheduleRequest -BodyParameter $params |\n",
    "    Format-List Id, Status, Action, DirectoryScopeId, RoleDefinitionId, Justification, PrincipalId"
   ]
  },
  {
   "cell_type": "markdown",
   "id": "b6db3bb0",
   "metadata": {},
   "source": [
    "## Task 9: Remove an Eligible Assignment\n",
    "\n",
    "Finally, as an administrator, you can remove the eligible assignment completely. This can be done either by the administrator or the user."
   ]
  },
  {
   "cell_type": "code",
   "execution_count": null,
   "id": "36dc4d7e",
   "metadata": {
    "polyglot_notebook": {
     "kernelName": "pwsh"
    }
   },
   "outputs": [],
   "source": [
    "# Create parameters to remove the eligible assignment\n",
    "$params = @{\n",
    "    'PrincipalId'      = $principalId\n",
    "    'RoleDefinitionId' = $RoleDefinitionId\n",
    "    'Justification'    = 'Remove eligible assignment'\n",
    "    'DirectoryScopeId' = '/'\n",
    "    'Action'           = 'AdminRemove'\n",
    "}\n",
    "\n",
    "# Remove the eligible role assignment\n",
    "New-MgRoleManagementDirectoryRoleEligibilityScheduleRequest -BodyParameter $params |\n",
    "    Format-List Id, Status, Action, DirectoryScopeId, RoleDefinitionId, Justification, PrincipalId"
   ]
  },
  {
   "cell_type": "markdown",
   "id": "50410d6a",
   "metadata": {},
   "source": [
    "## Summary\n",
    "\n",
    "In this lab, you learned how to:\n",
    "\n",
    "- Connect to Microsoft Graph with appropriate permissions for PIM operations\n",
    "- View available directory roles and role templates\n",
    "- Assign an eligible role to a user\n",
    "- Extend the duration of an eligible role assignment\n",
    "- Activate a role as the user\n",
    "- Deactivate an active role assignment\n",
    "- Remove an eligible role assignment\n",
    "\n",
    "These operations are the fundamental building blocks for implementing Just-In-Time (JIT) access and the principle of least privilege in your organization using Microsoft Entra ID Privileged Identity Management.\n",
    "\n",
    "## Challenge Exercises\n",
    "\n",
    "1. Assign multiple eligible roles to a user\n",
    "2. Create a script that automates checking for expired eligible assignments\n",
    "3. Create a schedule that automatically deactivates roles after business hours"
   ]
  }
 ],
 "metadata": {
  "kernelspec": {
   "display_name": ".NET (C#)",
   "language": "C#",
   "name": ".net-csharp"
  },
  "language_info": {
   "name": "polyglot-notebook"
  },
  "polyglot_notebook": {
   "kernelInfo": {
    "defaultKernelName": "csharp",
    "items": [
     {
      "aliases": [],
      "name": "csharp"
     }
    ]
   }
  }
 },
 "nbformat": 4,
 "nbformat_minor": 5
}
