{
 "cells": [
  {
   "cell_type": "markdown",
   "id": "cb01f7d2",
   "metadata": {},
   "source": [
    "# LAB 02: App-Only Authentication with Microsoft Graph PowerShell SDK\n",
    "\n",
    "This lab guides you through configuring app-only access for a simple script to list users and groups in your Microsoft 365 tenant."
   ]
  },
  {
   "cell_type": "markdown",
   "id": "44ff1631",
   "metadata": {},
   "source": [
    "## Step 0: Specify your user name\n",
    "\n",
    "You are all working in the same tenant. Edit the following code cell to specify your user name (for example `userone`, `usertwo`...).\n",
    "\n",
    "Don't forget to run it. That user name will be used for naming resources during the labs."
   ]
  },
  {
   "cell_type": "code",
   "execution_count": null,
   "metadata": {
    "polyglot_notebook": {
     "kernelName": "pwsh"
    },
    "vscode": {
     "languageId": "polyglot-notebook"
    }
   },
   "outputs": [],
   "source": [
    "# Specify your user name (for example \"userone\", \"usertwo\"...)\n",
    "$your_username = '<USERNAME>'"
   ]
  },
  {
   "cell_type": "markdown",
   "id": "b6d8c41f",
   "metadata": {},
   "source": [
    "## Step 1: Create Self-Signed Certificate\n",
    "\n",
    "Use this method to authenticate from an application running from your machine. For example, authenticate from PowerShell 7 or Windows PowerShell."
   ]
  },
  {
   "cell_type": "code",
   "execution_count": null,
   "id": "6a6c766b",
   "metadata": {
    "polyglot_notebook": {
     "kernelName": "pwsh"
    },
    "vscode": {
     "languageId": "polyglot-notebook"
    }
   },
   "outputs": [],
   "source": [
    "# Create a self-signed certificate\n",
    "$cert = New-SelfSignedCertificate -Subject \"CN=PSTrainingCert\" -CertStoreLocation \"Cert:\\CurrentUser\\My\" -KeyExportPolicy Exportable -KeySpec Signature -KeyLength 2048 -KeyAlgorithm RSA -HashAlgorithm SHA256\n",
    "\n",
    "$certPath = \"C:\\eid-msgraphps\\PSTrainingCert.cer\"\n",
    "\n",
    "Export-Certificate -Cert $cert -FilePath $certPath"
   ]
  },
  {
   "cell_type": "markdown",
   "id": "15940da2",
   "metadata": {},
   "source": [
    "## Step 2: Register the Application\n",
    "\n",
    "First, you're using the PowerShell SDK with delegated access, logging in as an administrator, and creating the app registration. Then, using that app registration, you're able to use the PowerShell SDK with app-only access, allowing for unattended scripts."
   ]
  },
  {
   "cell_type": "code",
   "execution_count": null,
   "id": "a7ce2dea",
   "metadata": {
    "polyglot_notebook": {
     "kernelName": "pwsh"
    },
    "vscode": {
     "languageId": "polyglot-notebook"
    }
   },
   "outputs": [],
   "source": [
    "# Define the certificate path\n",
    "$certPath = \"C:\\eid-msgraphps\\PSTrainingCert.cer\"\n",
    "\n",
    "# Change to the working directory\n",
    "cd C:\\eid-msgraphps\n",
    "\n",
    "# Open the RegisterAppOnly.ps1 script in VS Code\n",
    "# Note: In a notebook, this line will not open VS Code but is kept for reference\n",
    "# code .\\RegisterAppOnly.ps1\n",
    "\n",
    "# Run the script to register the application\n",
    "$appName = \"PSTraining Script ({0})\" -f $your_username\n",
    ".\\RegisterAppOnly.ps1 -AppName $appName -CertPath $certPath"
   ]
  },
  {
   "cell_type": "markdown",
   "id": "14e978c2",
   "metadata": {},
   "source": [
    "## Step 3: Grant Admin Consent\n",
    "\n",
    "Follow the instructions in the output to grant admin consent to the required permissions."
   ]
  },
  {
   "cell_type": "markdown",
   "id": "c2daa3e2",
   "metadata": {},
   "source": [
    "## Step 4: Test Authentication\n",
    "\n",
    "Authenticate using the Connect-MgGraph command in the output to test if you can connect to Microsoft Graph using app-only access."
   ]
  },
  {
   "cell_type": "code",
   "execution_count": null,
   "id": "2b35a60d",
   "metadata": {
    "polyglot_notebook": {
     "kernelName": "pwsh"
    },
    "vscode": {
     "languageId": "polyglot-notebook"
    }
   },
   "outputs": [],
   "source": [
    "# Use the Connect-MgGraph command from the RegisterAppOnly.ps1 output here\n",
    "# For example: Connect-MgGraph -TenantId \"your-tenant-id\" -ClientId \"your-client-id\" -CertificateName \"your-certificate-name\"\n",
    "Connect-MgGraph -ClientId \"<CLIENTID>\" -TenantId \"0c03307a-63d3-432f-a343-446b59eb5356\" -CertificateName \"CN=PSTrainingCert\"\n",
    "\n",
    "# Check the connection context\n",
    "Get-MgContext"
   ]
  },
  {
   "cell_type": "code",
   "execution_count": null,
   "id": "d3367e65",
   "metadata": {
    "polyglot_notebook": {
     "kernelName": "pwsh"
    },
    "vscode": {
     "languageId": "polyglot-notebook"
    }
   },
   "outputs": [],
   "source": [
    "# Disconnect from Microsoft Graph when finished\n",
    "Disconnect-MgGraph"
   ]
  },
  {
   "cell_type": "markdown",
   "id": "b089549a",
   "metadata": {},
   "source": [
    "## Step 5: Create a Script to List Users and Groups\n",
    "\n",
    "Write a script to list users and groups in your Microsoft 365 tenant. The output should contain only users' and groups' IDs and display names.\n",
    "\n",
    "Don't forget to:\n",
    "- Authenticate in your script using the Connect-MgGraph command from RegisterAppOnly.ps1 output\n",
    "- Disconnect from Microsoft Graph at the end of your script"
   ]
  },
  {
   "cell_type": "code",
   "execution_count": null,
   "id": "d530de98",
   "metadata": {
    "polyglot_notebook": {
     "kernelName": "pwsh"
    },
    "vscode": {
     "languageId": "polyglot-notebook"
    }
   },
   "outputs": [],
   "source": [
    "# Example script to list users and groups in Microsoft 365 tenant\n",
    "\n",
    "# Authentication - replace with your actual values from RegisterAppOnly.ps1 output\n",
    "# Connect-MgGraph -TenantId \"your-tenant-id\" -ClientId \"your-client-id\" -CertificateName \"your-certificate-name\"\n",
    "Connect-MgGraph -ClientId \"<CLIENTID>\" -TenantId \"0c03307a-63d3-432f-a343-446b59eb5356\" -CertificateName \"CN=PSTrainingCert\"\n",
    "\n",
    "# List users (display only ID and DisplayName)\n",
    "Write-Host \"USERS:\" -ForegroundColor Cyan\n",
    "Write-Host \"======================================================\"\n",
    "Get-MgUser -Top 5 | Format-Table Id, DisplayName\n",
    "\n",
    "# List groups (display only ID and DisplayName)\n",
    "Write-Host \"GROUPS:\" -ForegroundColor Cyan\n",
    "Write-Host \"======================================================\"\n",
    "Get-MgGroup -Top 5 | Format-Table Id, DisplayName\n",
    "\n",
    "# Disconnect from Microsoft Graph\n",
    "Disconnect-MgGraph"
   ]
  }
 ],
 "metadata": {
  "kernelspec": {
   "display_name": ".NET (C#)",
   "language": "C#",
   "name": ".net-csharp"
  },
  "language_info": {
   "name": "csharp"
  },
  "polyglot_notebook": {
   "kernelInfo": {
    "defaultKernelName": "csharp",
    "items": [
     {
      "aliases": [],
      "name": "csharp"
     }
    ]
   }
  }
 },
 "nbformat": 4,
 "nbformat_minor": 5
}
