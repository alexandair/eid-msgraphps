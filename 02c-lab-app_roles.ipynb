{
 "cells": [
  {
   "cell_type": "markdown",
   "id": "995afb3b",
   "metadata": {},
   "source": [
    "# Lab: Programmatically Grant App Roles to an Application (Script)\n",
    "\n",
    "In this lab, you will learn how to programmatically grant app roles to an application using Microsoft Graph PowerShell SDK. This is a common task when setting up service-to-service authentication scenarios.\n",
    "\n",
    "## Objectives\n",
    "- Find the necessary identifiers for app role assignment\n",
    "- Grant an app role to an application using PowerShell\n",
    "- Verify the assignment in the Entra portal\n",
    "- Extend your existing script to work with applications"
   ]
  },
  {
   "cell_type": "markdown",
   "id": "d9a37017",
   "metadata": {},
   "source": [
    "## Prerequisites\n",
    "- Microsoft Graph PowerShell SDK installed\n",
    "- An application registered in Entra ID\n",
    "- Permissions to manage application permissions\n",
    "\n",
    "Make sure you have completed the previous labs and have the necessary authentication set up."
   ]
  },
  {
   "cell_type": "markdown",
   "id": "f9578459",
   "metadata": {},
   "source": [
    "## Step 0: Specify your user name\n",
    "\n",
    "You are all working in the same tenant. Edit the following code cell to specify your user name (for example `userone`, `usertwo`...).\n",
    "\n",
    "Don't forget to run it. That user name will be used for naming resources during the labs."
   ]
  },
  {
   "cell_type": "code",
   "execution_count": null,
   "id": "1044bb61",
   "metadata": {
    "polyglot_notebook": {
     "kernelName": "pwsh"
    }
   },
   "outputs": [],
   "source": [
    "# Specify your user name (for example \"userone\", \"usertwo\"...)\n",
    "$your_username = '<USERNAME>'"
   ]
  },
  {
   "cell_type": "markdown",
   "id": "4c06a91f",
   "metadata": {},
   "source": [
    "## Task 1: Finding the Required IDs\n",
    "\n",
    "To grant an app role, you need to identify:\n",
    "1. The **service principal ID** of your application (\"PSTraining Script (YOUR_USERNAME)\")\n",
    "2. The **service principal ID** of Microsoft Graph\n",
    "3. The **ID of the app role** you want to assign (\"Application.Read.All\")\n",
    "\n",
    "Let's start by finding these values:"
   ]
  },
  {
   "cell_type": "code",
   "execution_count": null,
   "id": "7cb2d4a1",
   "metadata": {
    "polyglot_notebook": {
     "kernelName": "pwsh"
    }
   },
   "outputs": [],
   "source": [
    "# Connect to Microsoft Graph if not already connected\n",
    "# Uncomment the following line if needed\n",
    "Connect-MgGraph -Scopes \"Application.ReadWrite.All\", \"Directory.ReadWrite.All\", \"AppRoleAssignment.ReadWrite.All\"\n",
    "(Get-MgContext).Scopes\n",
    "\n",
    "# Find the service principal for our application\n",
    "$appName = \"PSTraining Script ({0})\" -f $your_username\n",
    "$sp = Get-MgServicePrincipal -Filter \"displayName eq '$appName'\"\n",
    "$sp | Select-Object Id, DisplayName, AppId\n",
    "\n",
    "# Find the Microsoft Graph service principal\n",
    "$graph = Get-MgServicePrincipal -Filter \"displayName eq 'Microsoft Graph'\"\n",
    "$graph | Select-Object Id, DisplayName, AppId\n",
    "\n",
    "# Find the Application.Read.All app role\n",
    "$appRole = $graph.AppRoles | Where-Object { $_.Value -eq \"Application.Read.All\" }\n",
    "$appRole | Select-Object Id, Value, DisplayName"
   ]
  },
  {
   "cell_type": "markdown",
   "id": "bcdae75c",
   "metadata": {},
   "source": [
    "## Task 2: Granting the App Role\n",
    "\n",
    "Now that we have the necessary IDs, we can grant the app role to our application using the `New-MgServicePrincipalAppRoleAssignment` cmdlet."
   ]
  },
  {
   "cell_type": "code",
   "execution_count": null,
   "id": "a200d08d",
   "metadata": {
    "polyglot_notebook": {
     "kernelName": "pwsh"
    }
   },
   "outputs": [],
   "source": [
    "# Create parameters for app role assignment\n",
    "$params = @{\n",
    "  'PrincipalId' = $sp.Id       # ID of our application's service principal\n",
    "  'ResourceId'  = $graph.Id    # ID of Microsoft Graph service principal\n",
    "  'AppRoleId'   = $appRole.Id  # ID of the Application.Read.All app role\n",
    "}\n",
    "\n",
    "# Grant the app role\n",
    "New-MgServicePrincipalAppRoleAssignment -ServicePrincipalId $graph.Id -BodyParameter $params | \n",
    "  Format-List Id, AppRoleId, CreatedDateTime, PrincipalDisplayName, PrincipalId, PrincipalType, ResourceDisplayName"
   ]
  },
  {
   "cell_type": "markdown",
   "id": "d16de218",
   "metadata": {},
   "source": [
    "## Task 3: Verify the Assignment\n",
    "\n",
    "After granting the app role, you should verify it was assigned correctly. You can do this using the Azure or Entra portal, or through PowerShell.\n",
    "\n",
    "### Through PowerShell:"
   ]
  },
  {
   "cell_type": "code",
   "execution_count": null,
   "id": "29a0daf3",
   "metadata": {
    "polyglot_notebook": {
     "kernelName": "pwsh"
    }
   },
   "outputs": [],
   "source": [
    "# Check app role assignments for our service principal\n",
    "Get-MgServicePrincipalAppRoleAssignment -ServicePrincipalId $sp.Id | \n",
    "    Select-Object AppRoleId, PrincipalId, ResourceDisplayName, Id"
   ]
  },
  {
   "cell_type": "markdown",
   "id": "18410417",
   "metadata": {},
   "source": [
    "### Through Portal:\n",
    "\n",
    "1. Navigate to the [Entra portal](https://entra.microsoft.com)\n",
    "2. Go to **App registrations**\n",
    "3. Find and select your application (\"PSTraining Script (YOUR_USERNAME)\")\n",
    "4. Click on **API permissions**\n",
    "5. Verify that \"Application.Read.All\" appears in the list of granted permissions"
   ]
  },
  {
   "cell_type": "markdown",
   "id": "ba68311e",
   "metadata": {},
   "source": [
    "## Task 4: Extend Previous Script to List Applications\n",
    "\n",
    "In previous lab, you created a script to list users and groups. Now, modify that script to also list applications. \n",
    "\n",
    "Test the script."
   ]
  },
  {
   "cell_type": "markdown",
   "id": "ee735199",
   "metadata": {},
   "source": [
    "## Bonus Task: Grant Multiple App Roles at Once\n",
    "\n",
    "If you want to grant multiple app roles to an application at once, you can use a loop to assign each role. Try granting both \"Application.Read.All\" and \"Directory.Read.All\" to your application:"
   ]
  },
  {
   "cell_type": "code",
   "execution_count": null,
   "id": "0b92d4b6",
   "metadata": {
    "polyglot_notebook": {
     "kernelName": "pwsh"
    }
   },
   "outputs": [],
   "source": [
    "# Define the app roles you want to assign\n",
    "$requiredAppRoles = @(\"Application.Read.All\", \"Directory.Read.All\")\n",
    "\n",
    "# Loop through each role and assign it\n",
    "foreach ($roleName in $requiredAppRoles) {\n",
    "    $role = $graph.AppRoles | Where-Object { $_.Value -eq $roleName }\n",
    "    \n",
    "    if ($role) {\n",
    "        $params = @{\n",
    "            'PrincipalId' = $sp.Id\n",
    "            'ResourceId'  = $graph.Id\n",
    "            'AppRoleId'   = $role.Id\n",
    "        }\n",
    "        \n",
    "        Write-Host \"Granting $roleName app role...\" -ForegroundColor Cyan\n",
    "        try {\n",
    "            New-MgServicePrincipalAppRoleAssignment -ServicePrincipalId $sp.Id -BodyParameter $params -ErrorAction Stop\n",
    "            \n",
    "            Write-Host \"Successfully granted $roleName\" -ForegroundColor Green\n",
    "        }\n",
    "        catch {\n",
    "            # The role might already be assigned\n",
    "            Write-Host \"Error granting $roleName - it may already be assigned\" -ForegroundColor Yellow\n",
    "            Write-Host $_.Exception.Message\n",
    "        }\n",
    "    }\n",
    "    else {\n",
    "        Write-Host \"Could not find app role with value $roleName\" -ForegroundColor Red\n",
    "    }\n",
    "}"
   ]
  },
  {
   "cell_type": "markdown",
   "id": "e86e8fed",
   "metadata": {},
   "source": [
    "## Summary\n",
    "\n",
    "In this lab, you learned how to:\n",
    "- Find necessary service principal and app role IDs\n",
    "- Grant app roles to applications programmatically\n",
    "- Verify app role assignments\n",
    "- Extend a script to work with applications\n",
    "\n",
    "These skills are essential when setting up automation for application permissions in Entra ID, especially in CI/CD pipelines or when managing large numbers of applications."
   ]
  }
 ],
 "metadata": {
  "kernelspec": {
   "display_name": ".NET (C#)",
   "language": "C#",
   "name": ".net-csharp"
  },
  "language_info": {
   "name": "polyglot-notebook"
  },
  "polyglot_notebook": {
   "kernelInfo": {
    "defaultKernelName": "csharp",
    "items": [
     {
      "aliases": [],
      "name": "csharp"
     }
    ]
   }
  }
 },
 "nbformat": 4,
 "nbformat_minor": 5
}
